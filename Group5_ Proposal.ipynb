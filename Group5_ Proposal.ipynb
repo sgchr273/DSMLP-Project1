{
 "cells": [
  {
   "cell_type": "markdown",
   "metadata": {},
   "source": [
    "<h1 align=\"center\"> IST 5520: Project proposal</h1>\n",
    "<h2 align=\"center\"> Use Learned-based Model to Predict Airbnb Rent Price  </h3>\n",
    "<h3 align=\"center\"> Group5: Sung-Heng Wu, Usman Tariq, Shreen Gul, Adam Camerer </h3>"
   ]
  },
  {
   "cell_type": "markdown",
   "metadata": {},
   "source": [
    "### 1.Introduction"
   ]
  },
  {
   "cell_type": "markdown",
   "metadata": {},
   "source": [
    "Airbnb is one of the most popular booking sites in the world. Hosts will provide a variety of listings on the website, and customers can also choose what they want according to their own preferences. Aribnb prices are usually determined by the hosts empirically. However, it ends up causing the challenge for the hosts. How do new hosts ensure rents are high enough to make money and customers are willing to place orders? For customers, in addition to renting a house they like, they want to ensure that the rent is reasonable and valuable. Besides, Airbnb prices are not fixed but fluctuate so customers also want to determine whether now is the good timing for booking the room.\n",
    "\n",
    "Customers on Airbnb always suffer from the prices that hosts set up and customers browse. Both of them want to know what kind of prices are rational and attractive to each other. Thus, using learned-based models such as machine learning and deep learning to predict price is completely beneficial and valuable for both hosts and customers. Group 5 is trying to figure out what kind of learning methods and data manipulation skills are useful for predicting rental prices. Also, we would use r-square to determine the performance of model  "
   ]
  },
  {
   "cell_type": "markdown",
   "metadata": {},
   "source": [
    "### 2. Literature Review\n",
    "\n",
    "#### (1.) Neighborhood and Price Prediction for San Francisco Airbnb_ 2015\n",
    "#### (2.) Predicting Airbnb Listing Price Across Different Cities_ 2019\n",
    "#### (3.) Learning-based Airbnb Price Prediction Model_2020\n"
   ]
  },
  {
   "cell_type": "markdown",
   "metadata": {},
   "source": [
    "In the first literature, the author developed two classifiers, one is to predict the range in which a listing's price falls, and the other is to predict the listing's neighborhood. Based on airbnb data, we find a lot of 'nominal scale' features such as \"neighborhood\" and \"room type\". Those features are not like interval or ratio features which can be manipulated relatively easier. So the author input the features listed above into a Support Vector Machine (SVM) with a linear kernel, implemented using sklearn’s SVM package, and discreted listing prices into two buckets seperated at the median. Manipulating nominal scale features(data) might also be significant in data processing  "
   ]
  },
  {
   "cell_type": "markdown",
   "metadata": {},
   "source": [
    "Then, we learn the knowledge from second paper is that the linear regression can obtain the moderate model based on r-square criteria; however, the model build up by XGBoost and  neural network out-perform other approaches like machine learning. Thus, we would try to use neural network for transfer learning to train our model."
   ]
  },
  {
   "cell_type": "markdown",
   "metadata": {},
   "source": [
    "In the last one, the author also utilized XGBoost and neural network to train the model, and use the mean square error and r-square to evaluate the performance. Besides, the author also listed the top 5 important features and bottom 5 important features. After strengthening the top 5 features and eliminating bottom 5 features, the performance of model is better. Therefore we would very look forward to observe what kind of features are more critical in the chicago dataset."
   ]
  },
  {
   "cell_type": "markdown",
   "metadata": {},
   "source": [
    "### 3. Research Questions (what problems you intend to solve with the selected dataset)"
   ]
  },
  {
   "cell_type": "markdown",
   "metadata": {},
   "source": [
    "The purpose of our project is to first find the relation between different data types and based on that we can make the conclusion. For example, if the host rating is high, it attracts more guests. One of the final goals for the this project is to incorporate the machine learning process to predict the optimum rents for the guest to attract maximum guests."
   ]
  },
  {
   "cell_type": "markdown",
   "metadata": {},
   "source": [
    "### 4. Data (specify data source; provide a data dictionary explaining the meaning of all columns; explain why the dataset is appropriate for addressing your research questions)"
   ]
  },
  {
   "cell_type": "markdown",
   "metadata": {},
   "source": [
    "#### 4.1 Data Source"
   ]
  },
  {
   "cell_type": "markdown",
   "metadata": {},
   "source": [
    "Data was acquired from the Airbnb website under Chicago, detailed listing (http://insideairbnb.com/get-the-data)"
   ]
  },
  {
   "cell_type": "markdown",
   "metadata": {},
   "source": [
    "#### 4.2 Data Dictionary"
   ]
  },
  {
   "cell_type": "markdown",
   "metadata": {},
   "source": [
    "Although there are 74 columns in the data set as our goal is to predict the mutual standing point between owner and customer, we will be considering only 12 columns as listed below.\n",
    "\n",
    "|Columns||Description||Data Type|\n",
    "|-------||-----------||---------|\n",
    "|host_since||This data provides how long the owner has been renting the property||date|\n",
    "|host_has_profile_pic||Shows whether the owner has a profile picture||Boolean|\n",
    "|host_listings_count||Number of Airbnb houses the host gives on rent||integer|\n",
    "|bedrooms||The number of bedrooms is the rental property||integer|\n",
    "|accommodates||The number of guests it can accommodate||integer|\n",
    "|room_type||Type of room||object|\n",
    "|minimum_nights||Number of minimum nights for the rental period||integer|\n",
    "|maximum_nights||Number of maximum nights for the rental period||integer|\n",
    "|availability_365||Number of days in a year it is available for rent||integer|\n",
    "|number_of_reviews||Number of reviews from customers||integer|\n",
    "|reviews_per_month||The average number of reviews for the rental property by customers||Float|\n",
    "|review_scores_rating||Review score rating that rental gets from customer||Float|"
   ]
  },
  {
   "cell_type": "markdown",
   "metadata": {},
   "source": [
    "#### 4.3 Significance of the above data"
   ]
  },
  {
   "cell_type": "markdown",
   "metadata": {},
   "source": [
    "The above data is extracted from the main source on the basis of the significance of the output. For example, the column of host_since provides the data since when that host has been renting which consequently can give a more mature effect on guests. Let us take another example, having a profile picture can create a more personalized bond between the host and guest and can give output based on that data. The same is the case with other data columns."
   ]
  },
  {
   "cell_type": "code",
   "execution_count": null,
   "metadata": {},
   "outputs": [],
   "source": []
  }
 ],
 "metadata": {
  "kernelspec": {
   "display_name": "Python 3 (ipykernel)",
   "language": "python",
   "name": "python3"
  },
  "language_info": {
   "codemirror_mode": {
    "name": "ipython",
    "version": 3
   },
   "file_extension": ".py",
   "mimetype": "text/x-python",
   "name": "python",
   "nbconvert_exporter": "python",
   "pygments_lexer": "ipython3",
   "version": "3.9.12"
  }
 },
 "nbformat": 4,
 "nbformat_minor": 4
}
